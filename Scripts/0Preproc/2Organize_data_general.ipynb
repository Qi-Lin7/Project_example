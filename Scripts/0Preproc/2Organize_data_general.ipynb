{
 "cells": [
  {
   "cell_type": "code",
   "execution_count": 1,
   "id": "dd62c33d-db43-4f2f-92dc-8c5610c82802",
   "metadata": {},
   "outputs": [],
   "source": [
    "import os, glob, shutil, json\n",
    "import numpy as np"
   ]
  },
  {
   "cell_type": "code",
   "execution_count": 2,
   "id": "26eeaf4c-48ef-41d8-a6e7-8fdd30aeda47",
   "metadata": {},
   "outputs": [],
   "source": [
    "curr_sub = 7\n",
    "ses = 4\n",
    "data_dir = '/SINLAB/SIN/qi/qi/Closedloop/BIDS' # update to your directory\n",
    "tmp_dir = '/SINLAB/SIN/qi/qi/Closedloop/tmp/20250908_QI_00022/HEAD_CNIR_HAKWAN_SIN-LAB_20250908_120417_499000' # update to your directory\n",
    "bids_dir = os.path.join(data_dir,\n",
    "                      'sub-0{}'.format(curr_sub), \n",
    "                      'ses-0{}'.format(ses))"
   ]
  },
  {
   "cell_type": "code",
   "execution_count": 3,
   "id": "6e86c13a-1e95-4c52-973b-f3ebd360c32e",
   "metadata": {},
   "outputs": [],
   "source": [
    "if not os.path.isdir(bids_dir):\n",
    "    os.makedirs(bids_dir)\n",
    "size = 0\n",
    "for path, dirs, files in os.walk(bids_dir):\n",
    "    for f in files:\n",
    "        fp = os.path.join(path, f)\n",
    "        size += os.path.getsize(fp)\n",
    "if size > 100:\n",
    "    print('BIDS directory is not empty!!! Please double-check!')\n",
    "    print(bids_dir)"
   ]
  },
  {
   "cell_type": "code",
   "execution_count": 6,
   "id": "4df9fbee-c98c-4db0-ad5b-d538dd4afe72",
   "metadata": {},
   "outputs": [],
   "source": [
    "# Update the order of the runs to suit your study\n",
    "run_description = ['Localizer'] + \\\n",
    "                ['EPI_BlipUp1'] * 1 + ['FieldMap_BlipDn'] + ['FieldMap_BlipUp'] \\\n",
    "                ['EPI_BlipUp2'] * 1 + ['FieldMap_BlipDn'] + ['FieldMap_BlipUp'] \\\n",
    "                ['EPI_BlipUp3'] * 1 + ['FieldMap_BlipDn'] + ['FieldMap_BlipUp'] \\\n",
    "                ['EPI_BlipUp4'] * 1 + ['FieldMap_BlipDn'] + ['FieldMap_BlipUp'] \\\n",
    "                ['EPI_BlipUp5'] * 1 + ['FieldMap_BlipDn'] + ['FieldMap_BlipUp'] \\\n",
    "                ['EPI_BlipUp6'] * 1 + ['FieldMap_BlipDn'] + ['FieldMap_BlipUp'] \\\n",
    "                ['EPI_BlipUp7'] * 1 + ['FieldMap_BlipDn'] + ['FieldMap_BlipUp'] \\\n",
    "                ['EPI_BlipUp8'] * 1 + ['FieldMap_BlipDn'] + ['FieldMap_BlipUp'] \\\n",
    "                ['EPI_BlipUp9'] * 1 + ['FieldMap_BlipDn'] + ['FieldMap_BlipUp'] \\\n",
    "                ['EPI_BlipUp10'] * 1 + ['FieldMap_BlipDn']+ ['FieldMap_BlipUp'] \\\n",
    "                ['EPI_BlipUp11'] * 1 + ['FieldMap_BlipDn'] + ['FieldMap_BlipUp'] \\\n",
    "                ['EPI_BlipUp12'] * 1 + ['FieldMap_BlipDn'] +['Abort']*2 + ['T1']+['Abort']\n",
    "run_num_list = range(1, len(run_description)+1)"
   ]
  },
  {
   "cell_type": "code",
   "execution_count": 7,
   "id": "c47f4a4e-ab12-48e2-a3cc-371bccb83f1a",
   "metadata": {},
   "outputs": [
    {
     "data": {
      "text/plain": [
       "25"
      ]
     },
     "execution_count": 7,
     "metadata": {},
     "output_type": "execute_result"
    }
   ],
   "source": [
    "len(run_description)"
   ]
  },
  {
   "cell_type": "code",
   "execution_count": 8,
   "id": "67654091-3f8e-4b16-9975-6f587ab38808",
   "metadata": {
    "scrolled": true,
    "tags": []
   },
   "outputs": [
    {
     "name": "stdout",
     "output_type": "stream",
     "text": [
      "T1, scan 28\n",
      "T1, scan 33\n"
     ]
    }
   ],
   "source": [
    "# Anatomical file\n",
    "anat_dir = os.path.join(bids_dir,\n",
    "                       'anat')\n",
    "if not os.path.isdir(anat_dir):\n",
    "    os.mkdir(anat_dir)\n",
    "anat_run_counter = 0\n",
    "for ind, curr_run_type in enumerate(run_description):\n",
    "    if 'T1' in curr_run_type:\n",
    "        \n",
    "        scan_num = run_num_list[ind]\n",
    "        print('T1, scan {}'.format(scan_num))\n",
    "        # Move this funcitonal run\n",
    "        curr_run_pattern_list = glob.glob(os.path.join(tmp_dir, '*_{}.nii'.format(scan_num)))\n",
    "        filename = curr_run_pattern_list[0].split('/')[-1][:-4]\n",
    "    \n",
    "        \n",
    "        anat_run_counter+=1\n",
    "        # Move the anat and json files\n",
    "        anat_dest_dir = os.path.join(anat_dir, \n",
    "                                    'sub-0{}_ses-0{}_run-0{}_T1w.nii'.format(curr_sub,\n",
    "                                                                             ses,\n",
    "                                                                             anat_run_counter))\n",
    "      \n",
    "        shutil.move(curr_run_pattern_list[0], anat_dest_dir)\n",
    "        \n",
    "        json_orig_dir = os.path.join(tmp_dir, \n",
    "                                 '{}.json'.format(filename))\n",
    "        json_dest_dir = os.path.join(anat_dir, \n",
    "                                    'sub-0{}_ses-0{}_run-0{}_T1w.json'.format(curr_sub,\n",
    "                                                                             ses,\n",
    "                                                                             anat_run_counter))\n",
    "        shutil.move(json_orig_dir, json_dest_dir)\n",
    "    elif 'T2' in curr_run_type:\n",
    "        scan_num = run_num_list[ind]\n",
    "        # Move this funcitonal run\n",
    "        curr_run_pattern_list = glob.glob(os.path.join(tmp_dir, '*_{}.nii'.format(scan_num)))\n",
    "        filename = curr_run_pattern_list[0].split('/')[-1][:-4]\n",
    "    \n",
    "        \n",
    "        anat_run_counter+=1\n",
    "        # Move the anat and json files\n",
    "        anat_dest_dir = os.path.join(anat_dir, \n",
    "                                    'sub-0{}_ses-0{}_run-0{}_T2w.nii'.format(curr_sub,\n",
    "                                                                             ses,\n",
    "                                                                             anat_run_counter))\n",
    "      \n",
    "        shutil.move(curr_run_pattern_list[0], anat_dest_dir)\n",
    "        \n",
    "        json_orig_dir = os.path.join(tmp_dir, \n",
    "                                 '{}.json'.format(filename))\n",
    "        json_dest_dir = os.path.join(anat_dir, \n",
    "                                    'sub-0{}_ses-0{}_run-0{}_T2w.json'.format(curr_sub,\n",
    "                                                                             ses,\n",
    "                                                                             anat_run_counter))\n",
    "        shutil.move(json_orig_dir, json_dest_dir)"
   ]
  },
  {
   "cell_type": "code",
   "execution_count": 8,
   "id": "288447a8-3da3-4cfe-95a8-4b24299ca7b7",
   "metadata": {},
   "outputs": [],
   "source": [
    "# Functional files\n",
    "func_dir = os.path.join(bids_dir,\n",
    "                       'func')\n",
    "if not os.path.isdir(func_dir):\n",
    "    os.mkdir(func_dir)\n",
    "\n",
    "func_run_counter = 0\n",
    "for ind, curr_run_type in enumerate(run_description):\n",
    "    if 'EPI_Blip' in curr_run_type:\n",
    "\n",
    "        task_str='task' # Change to your task string\n",
    "        scan_num = run_num_list[ind]\n",
    "        # Move this funcitonal run\n",
    "        curr_run_pattern_list = glob.glob(os.path.join(tmp_dir, '*_{}.nii'.format(scan_num)))\n",
    "        filename = curr_run_pattern_list[0].split('/')[-1][:-4]\n",
    "    \n",
    "        \n",
    "        func_run_counter+=1\n",
    "        # Move the EPI and json files\n",
    "        if func_run_counter < 10:\n",
    "            func_dest_dir = os.path.join(func_dir, \n",
    "                                        'sub-0{}_ses-0{}_task-{}_run-0{}_bold.nii'.format(curr_sub,\n",
    "                                                                                 ses,\n",
    "                                                                                 task_str,\n",
    "                                                                                 func_run_counter))\n",
    "        else:\n",
    "            func_dest_dir = os.path.join(func_dir, \n",
    "                                        'sub-0{}_ses-0{}_task-{}_run-{}_bold.nii'.format(curr_sub,\n",
    "                                                                                 ses,\n",
    "                                                                                 task_str,\n",
    "                                                                                 func_run_counter))\n",
    "        shutil.move(curr_run_pattern_list[0], func_dest_dir)\n",
    "        \n",
    "        json_orig_dir = os.path.join(tmp_dir, \n",
    "                                 '{}.json'.format(filename))\n",
    "        \n",
    "        if func_run_counter < 10:\n",
    "            json_dest_dir = os.path.join(func_dir, \n",
    "                                    'sub-0{}_ses-0{}_task-{}_run-0{}_bold.json'.format(curr_sub,\n",
    "                                                                             ses,\n",
    "                                                                             task_str,\n",
    "                                                                             func_run_counter))\n",
    "        else:\n",
    "            json_dest_dir = os.path.join(func_dir, \n",
    "                                    'sub-0{}_ses-0{}_task-{}_run-{}_bold.json'.format(curr_sub,\n",
    "                                                                             ses,\n",
    "                                                                             task_str,\n",
    "                                                                             func_run_counter))\n",
    "        shutil.move(json_orig_dir, json_dest_dir)"
   ]
  },
  {
   "cell_type": "code",
   "execution_count": 9,
   "id": "71f030e8-47b9-45d9-a6de-1f5c3d866dfc",
   "metadata": {},
   "outputs": [],
   "source": [
    "list_runs_fmap = [1]*12"
   ]
  },
  {
   "cell_type": "code",
   "execution_count": 10,
   "id": "c60a7440-f632-434a-8342-81dc60fbc378",
   "metadata": {},
   "outputs": [],
   "source": [
    "metalist_of_intended_for = []\n",
    "for curr_fmap in range(len(list_runs_fmap)):\n",
    "    curr_fmap_intended_for = []\n",
    "    curr_fmap_runs = list_runs_fmap[curr_fmap]\n",
    "    cumsum_runs = np.sum(list_runs_fmap[:curr_fmap])\n",
    "\n",
    "    for curr_fmap_run in range(curr_fmap_runs):\n",
    "        if cumsum_runs+curr_fmap_run+1 < 10:\n",
    "            curr_func_pattern = \"ses-0{}/func/sub-0{}_ses-0{}_task-{}_run-0{}_bold.nii\".format(ses,\n",
    "                                                                                    curr_sub,\n",
    "                                                                                    ses,\n",
    "                                                                                    task_str,\n",
    "                                                                                    int(cumsum_runs+curr_fmap_run+1))\n",
    "        else:\n",
    "            curr_func_pattern = \"ses-0{}/func/sub-0{}_ses-0{}_task-{}_run-{}_bold.nii\".format(ses,\n",
    "                                                                                    curr_sub,\n",
    "                                                                                    ses,\n",
    "                                                                                    task_str,\n",
    "                                                                                    int(cumsum_runs+curr_fmap_run+1))\n",
    "        curr_fmap_intended_for.append(curr_func_pattern)\n",
    "\n",
    "    metalist_of_intended_for.append(curr_fmap_intended_for)"
   ]
  },
  {
   "cell_type": "code",
   "execution_count": 11,
   "id": "c85104ed-6f86-4c67-b7e3-1124fc9055a2",
   "metadata": {},
   "outputs": [
    {
     "data": {
      "text/plain": [
       "[['ses-04/func/sub-07_ses-04_task-nsd_run-01_bold.nii'],\n",
       " ['ses-04/func/sub-07_ses-04_task-nsd_run-02_bold.nii'],\n",
       " ['ses-04/func/sub-07_ses-04_task-nsd_run-03_bold.nii'],\n",
       " ['ses-04/func/sub-07_ses-04_task-nsd_run-04_bold.nii'],\n",
       " ['ses-04/func/sub-07_ses-04_task-nsd_run-05_bold.nii'],\n",
       " ['ses-04/func/sub-07_ses-04_task-nsd_run-06_bold.nii'],\n",
       " ['ses-04/func/sub-07_ses-04_task-nsd_run-07_bold.nii'],\n",
       " ['ses-04/func/sub-07_ses-04_task-nsd_run-08_bold.nii'],\n",
       " ['ses-04/func/sub-07_ses-04_task-nsd_run-09_bold.nii'],\n",
       " ['ses-04/func/sub-07_ses-04_task-nsd_run-10_bold.nii'],\n",
       " ['ses-04/func/sub-07_ses-04_task-nsd_run-11_bold.nii'],\n",
       " ['ses-04/func/sub-07_ses-04_task-nsd_run-12_bold.nii']]"
      ]
     },
     "execution_count": 11,
     "metadata": {},
     "output_type": "execute_result"
    }
   ],
   "source": [
    "metalist_of_intended_for"
   ]
  },
  {
   "cell_type": "code",
   "execution_count": 12,
   "id": "02e817f5-752f-4ce8-91aa-99a0c0672803",
   "metadata": {},
   "outputs": [],
   "source": [
    "# Fieldmaps\n",
    "fmap_dir = os.path.join(bids_dir,\n",
    "                       'fmap')\n",
    "if not os.path.isdir(fmap_dir):\n",
    "    os.mkdir(fmap_dir)\n",
    "fm_run_counter = 0\n",
    "for ind, curr_run_type in enumerate(run_description):\n",
    "    if 'FieldMap_Blip' in curr_run_type:\n",
    "        if 'FieldMap_BlipDn' in curr_run_type:\n",
    "            dir_str='AP'\n",
    "        elif 'FieldMap_BlipUp' in curr_run_type:\n",
    "            dir_str='PA'\n",
    "        scan_num = run_num_list[ind]\n",
    "        # Move this fieldmap run\n",
    "        curr_run_pattern_list = glob.glob(os.path.join(tmp_dir, '*_{}.nii'.format(scan_num)))\n",
    "        filename = curr_run_pattern_list[0].split('/')[-1][:-4]\n",
    "\n",
    "        fm_run_counter+=1\n",
    "        json_orig_dir = os.path.join(tmp_dir, '{}.json'.format(filename))\n",
    "        # Edit the json file to add IntendedFor field\n",
    "        with open(json_orig_dir, 'r') as f:\n",
    "            data = json.load(f)\n",
    "            data['IntendedFor'] = metalist_of_intended_for[int((fm_run_counter-1)//2)]\n",
    "                \n",
    "        with open(json_orig_dir, 'w') as f:\n",
    "            json.dump(data, f, indent=4)\n",
    "\n",
    "\n",
    "        # Move the fieldmap and json files\n",
    "        func_dest_dir = os.path.join(fmap_dir, \n",
    "                                        'sub-0{}_ses-0{}_dir-{}_run-0{}_epi.nii'.format(curr_sub,\n",
    "                                                                                 ses,\n",
    "                                                                                 dir_str,\n",
    "                                                                                 int((fm_run_counter-1)//2)+1))\n",
    "     \n",
    "        shutil.move(curr_run_pattern_list[0], func_dest_dir)\n",
    "        \n",
    "        json_dest_dir = os.path.join(fmap_dir, \n",
    "                                    'sub-0{}_ses-0{}_dir-{}_run-0{}_epi.json'.format(curr_sub,\n",
    "                                                                             ses,\n",
    "                                                                             dir_str,\n",
    "                                                                            int((fm_run_counter-1)//2)+1))\n",
    "        shutil.move(json_orig_dir, json_dest_dir)"
   ]
  },
  {
   "cell_type": "code",
   "execution_count": null,
   "id": "71b75103-c36c-4a07-9a6b-8263cbc37faf",
   "metadata": {},
   "outputs": [],
   "source": []
  }
 ],
 "metadata": {
  "kernelspec": {
   "display_name": "Python 3 (ipykernel)",
   "language": "python",
   "name": "python3"
  },
  "language_info": {
   "codemirror_mode": {
    "name": "ipython",
    "version": 3
   },
   "file_extension": ".py",
   "mimetype": "text/x-python",
   "name": "python",
   "nbconvert_exporter": "python",
   "pygments_lexer": "ipython3",
   "version": "3.7.12"
  }
 },
 "nbformat": 4,
 "nbformat_minor": 5
}
